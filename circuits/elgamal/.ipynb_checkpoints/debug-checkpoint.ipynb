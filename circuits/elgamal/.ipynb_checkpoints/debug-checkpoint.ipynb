{
 "cells": [
  {
   "cell_type": "code",
   "execution_count": 1,
   "id": "882c11d9",
   "metadata": {},
   "outputs": [],
   "source": [
    "# base point coordinates for baby jubjub\n",
    "x=int('0x0bb77a6ad63e739b4eacb2e09d6277c12ab8d8010534e0b62893f3f6bb957051',16)\n",
    "y=int('0x25797203f7a0b24925572e1cd16bf9edfce0051fb9e133774b3c257a872d7d8b',16)"
   ]
  },
  {
   "cell_type": "code",
   "execution_count": 2,
   "id": "f0dd57e6",
   "metadata": {},
   "outputs": [],
   "source": [
    "p = 21888242871839275222246405745257275088548364400416034343698204186575808495617"
   ]
  },
  {
   "cell_type": "code",
   "execution_count": 3,
   "id": "c138a792",
   "metadata": {},
   "outputs": [
    {
     "data": {
      "text/plain": [
       "True"
      ]
     },
     "execution_count": 3,
     "metadata": {},
     "output_type": "execute_result"
    }
   ],
   "source": [
    "x<p"
   ]
  },
  {
   "cell_type": "code",
   "execution_count": 4,
   "id": "b9cb2171",
   "metadata": {},
   "outputs": [
    {
     "data": {
      "text/plain": [
       "True"
      ]
     },
     "execution_count": 4,
     "metadata": {},
     "output_type": "execute_result"
    }
   ],
   "source": [
    "y<p"
   ]
  },
  {
   "cell_type": "code",
   "execution_count": 5,
   "id": "838df9b3",
   "metadata": {},
   "outputs": [],
   "source": [
    "diff = 168700*x**2 + y**2 -1 - 168696*x**2*y**2"
   ]
  },
  {
   "cell_type": "code",
   "execution_count": 6,
   "id": "a2b1c45e",
   "metadata": {},
   "outputs": [
    {
     "data": {
      "text/plain": [
       "0"
      ]
     },
     "execution_count": 6,
     "metadata": {},
     "output_type": "execute_result"
    }
   ],
   "source": [
    "diff%p # base point is indeed on the bjj curve"
   ]
  },
  {
   "cell_type": "code",
   "execution_count": 7,
   "id": "30986717",
   "metadata": {},
   "outputs": [],
   "source": [
    "order_base = 2736030358979909402780800718157159386076813972158567259200215660948447373041"
   ]
  },
  {
   "cell_type": "code",
   "execution_count": 8,
   "id": "ccbb79e5",
   "metadata": {},
   "outputs": [
    {
     "name": "stdout",
     "output_type": "stream",
     "text": [
      "1786238506780971210155527811195811734127504684195304758403306539861947848052\n"
     ]
    }
   ],
   "source": [
    "import secrets\n",
    "secret_key = secrets.randbelow(order_base)# to sample securely random integer in the interval between 0 and order_base, excluded\n",
    "# upper bound is order_base to avoid any possibility of modulo bias attack\n",
    "print(secret_key)"
   ]
  },
  {
   "cell_type": "code",
   "execution_count": 11,
   "id": "5b907315",
   "metadata": {},
   "outputs": [
    {
     "name": "stdout",
     "output_type": "stream",
     "text": [
      "1783748626032093058120211678762932302331890801324778203300978475496980365346\n"
     ]
    }
   ],
   "source": [
    "randomness = secrets.randbelow(order_base)\n",
    "print(randomness)"
   ]
  },
  {
   "cell_type": "code",
   "execution_count": null,
   "id": "d5b8ccd7",
   "metadata": {},
   "outputs": [],
   "source": []
  },
  {
   "cell_type": "code",
   "execution_count": null,
   "id": "2d7f4cfb",
   "metadata": {},
   "outputs": [],
   "source": []
  }
 ],
 "metadata": {
  "kernelspec": {
   "display_name": "Python 3 (ipykernel)",
   "language": "python",
   "name": "python3"
  },
  "language_info": {
   "codemirror_mode": {
    "name": "ipython",
    "version": 3
   },
   "file_extension": ".py",
   "mimetype": "text/x-python",
   "name": "python",
   "nbconvert_exporter": "python",
   "pygments_lexer": "ipython3",
   "version": "3.8.12"
  }
 },
 "nbformat": 4,
 "nbformat_minor": 5
}
