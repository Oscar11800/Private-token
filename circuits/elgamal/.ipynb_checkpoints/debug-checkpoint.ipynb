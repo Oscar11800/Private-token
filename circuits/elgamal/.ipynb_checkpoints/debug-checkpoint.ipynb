{
 "cells": [
  {
   "cell_type": "code",
   "execution_count": 1,
   "id": "882c11d9",
   "metadata": {},
   "outputs": [],
   "source": [
    "# base point coordinates for baby jubjub\n",
    "x=int('0x0bb77a6ad63e739b4eacb2e09d6277c12ab8d8010534e0b62893f3f6bb957051',16)\n",
    "y=int('0x25797203f7a0b24925572e1cd16bf9edfce0051fb9e133774b3c257a872d7d8b',16)"
   ]
  },
  {
   "cell_type": "code",
   "execution_count": 2,
   "id": "f0dd57e6",
   "metadata": {},
   "outputs": [],
   "source": [
    "p = 21888242871839275222246405745257275088548364400416034343698204186575808495617"
   ]
  },
  {
   "cell_type": "code",
   "execution_count": 3,
   "id": "c138a792",
   "metadata": {},
   "outputs": [
    {
     "data": {
      "text/plain": [
       "True"
      ]
     },
     "execution_count": 3,
     "metadata": {},
     "output_type": "execute_result"
    }
   ],
   "source": [
    "x<p"
   ]
  },
  {
   "cell_type": "code",
   "execution_count": 4,
   "id": "b9cb2171",
   "metadata": {},
   "outputs": [
    {
     "data": {
      "text/plain": [
       "True"
      ]
     },
     "execution_count": 4,
     "metadata": {},
     "output_type": "execute_result"
    }
   ],
   "source": [
    "y<p"
   ]
  },
  {
   "cell_type": "code",
   "execution_count": 5,
   "id": "838df9b3",
   "metadata": {},
   "outputs": [],
   "source": [
    "diff = 168700*x**2 + y**2 -1 - 168696*x**2*y**2"
   ]
  },
  {
   "cell_type": "code",
   "execution_count": 6,
   "id": "a2b1c45e",
   "metadata": {},
   "outputs": [
    {
     "data": {
      "text/plain": [
       "0"
      ]
     },
     "execution_count": 6,
     "metadata": {},
     "output_type": "execute_result"
    }
   ],
   "source": [
    "diff%p # base point is indeed on the bjj curve"
   ]
  },
  {
   "cell_type": "code",
   "execution_count": 7,
   "id": "30986717",
   "metadata": {},
   "outputs": [],
   "source": [
    "order_base = 2736030358979909402780800718157159386076813972158567259200215660948447373041"
   ]
  },
  {
   "cell_type": "code",
   "execution_count": 8,
   "id": "ccbb79e5",
   "metadata": {},
   "outputs": [
    {
     "name": "stdout",
     "output_type": "stream",
     "text": [
      "1943402389567442765939389243944513636603796556060121159438162891081801975708\n"
     ]
    }
   ],
   "source": [
    "import secrets\n",
    "secret_key = secrets.randbelow(order_base)# to sample securely random integer in the interval between 0 and order_base, excluded\n",
    "# upper bound is order_base to avoid any possibility of modulo bias attack\n",
    "print(secret_key)\n",
    "# this one line implementation should be equivalent to the longer one below"
   ]
  },
  {
   "cell_type": "code",
   "execution_count": 9,
   "id": "5b907315",
   "metadata": {},
   "outputs": [
    {
     "name": "stdout",
     "output_type": "stream",
     "text": [
      "1006460231424782163672633454064221121575374871704068179990959538637449915801\n"
     ]
    }
   ],
   "source": [
    "randomness = secrets.randbelow(order_base)\n",
    "print(randomness)"
   ]
  },
  {
   "cell_type": "code",
   "execution_count": 10,
   "id": "69cef8e0",
   "metadata": {},
   "outputs": [],
   "source": [
    "# Everything below is a DRAFT space"
   ]
  },
  {
   "cell_type": "code",
   "execution_count": 11,
   "id": "f383766d",
   "metadata": {},
   "outputs": [
    {
     "data": {
      "text/plain": [
       "6350874878119819312338956282401532410528162663560392320966563075034087161851"
      ]
     },
     "execution_count": 11,
     "metadata": {},
     "output_type": "execute_result"
    }
   ],
   "source": [
    "(2**256-p)%p"
   ]
  },
  {
   "cell_type": "code",
   "execution_count": 12,
   "id": "cc758a25",
   "metadata": {},
   "outputs": [],
   "source": [
    "# to sample randomness or secret_key we follow this implementation : https://github.com/0x3327/maci/blob/78609349aecd94186216ac8743d61b1cb81a097f/crypto/ts/index.ts#L223-L252\n",
    "def genRandomBabyJubValue():\n",
    "    #Prevent modulo bias\n",
    "    #const lim = BigInt('0x10000000000000000000000000000000000000000000000000000000000000000') = 2**256\n",
    "    #const min = (lim - SNARK_FIELD_SIZE) % SNARK_FIELD_SIZE // @Audit (Jat) : issue here? should it be order of base point instead of snark field size?\n",
    "    minimum = 6350874878119819312338956282401532410528162663560392320966563075034087161851\n",
    "\n",
    "    while (True):\n",
    "        rand = rand = int.from_bytes(secrets.token_bytes(32), 'big')\n",
    "\n",
    "        if (rand >= minimum):\n",
    "            break\n",
    "\n",
    "    privKey= rand % p\n",
    "    assert(privKey < p)\n",
    "\n",
    "    return privKey\n"
   ]
  },
  {
   "cell_type": "code",
   "execution_count": 13,
   "id": "ab03d4cb",
   "metadata": {},
   "outputs": [
    {
     "data": {
      "text/plain": [
       "878814160160000506777354846087213638043797834980739153048526248078339972214"
      ]
     },
     "execution_count": 13,
     "metadata": {},
     "output_type": "execute_result"
    }
   ],
   "source": [
    "(2**256-order_base)%order_base"
   ]
  },
  {
   "cell_type": "code",
   "execution_count": 14,
   "id": "15558b11",
   "metadata": {},
   "outputs": [],
   "source": [
    "# Corrected version (?) this seems to be equivalent to the previous 1-line implementation with secrets.randbelow\n",
    "# to sample randomness or secret_key we follow this implementation : https://github.com/0x3327/maci/blob/78609349aecd94186216ac8743d61b1cb81a097f/crypto/ts/index.ts#L223-L252\n",
    "def genRandomBabyJubValue():\n",
    "    #Prevent modulo bias\n",
    "    #const lim = BigInt('0x10000000000000000000000000000000000000000000000000000000000000000') = 2**256\n",
    "    #const min = (lim - SNARK_FIELD_SIZE) % SNARK_FIELD_SIZE // @Audit (Jat) : issue here? should it be order of base point instead of snark field size?\n",
    "    minimum = 878814160160000506777354846087213638043797834980739153048526248078339972214\n",
    "\n",
    "    while (True):\n",
    "        rand = rand = int.from_bytes(secrets.token_bytes(32), 'big')\n",
    "\n",
    "        if (rand >= minimum):\n",
    "            break\n",
    "\n",
    "    privKey= rand % order_base\n",
    "    assert(privKey < order_base)\n",
    "\n",
    "    return privKey"
   ]
  },
  {
   "cell_type": "code",
   "execution_count": 35,
   "id": "f1af0e96",
   "metadata": {},
   "outputs": [
    {
     "data": {
      "text/plain": [
       "1878369807182275089984396831144130910488166318745210392595848120716398261783"
      ]
     },
     "execution_count": 35,
     "metadata": {},
     "output_type": "execute_result"
    }
   ],
   "source": [
    "genRandomBabyJubValue()"
   ]
  },
  {
   "cell_type": "code",
   "execution_count": 44,
   "id": "7affbb2e",
   "metadata": {},
   "outputs": [],
   "source": [
    "def to_le_32_hex_bytes(num):\n",
    "    hx = \"{0:0{1}x}\".format(num, 32*2)\n",
    "    b = \"\".join(reversed([\"\".join(x) for x in zip(*[iter(hx)] * 2)]))\n",
    "    return b"
   ]
  },
  {
   "cell_type": "code",
   "execution_count": null,
   "id": "e117ec5f",
   "metadata": {},
   "outputs": [],
   "source": []
  }
 ],
 "metadata": {
  "kernelspec": {
   "display_name": "Python 3 (ipykernel)",
   "language": "python",
   "name": "python3"
  },
  "language_info": {
   "codemirror_mode": {
    "name": "ipython",
    "version": 3
   },
   "file_extension": ".py",
   "mimetype": "text/x-python",
   "name": "python",
   "nbconvert_exporter": "python",
   "pygments_lexer": "ipython3",
   "version": "3.8.12"
  }
 },
 "nbformat": 4,
 "nbformat_minor": 5
}
